{
 "cells": [
  {
   "cell_type": "markdown",
   "id": "528916e3-ef58-4e14-9b34-8b0281975ad8",
   "metadata": {},
   "source": [
    "# `xarrayvideo` for the ERA5 dataset"
   ]
  },
  {
   "cell_type": "markdown",
   "id": "35845dc2-7adc-49d9-9245-618e69ca9900",
   "metadata": {},
   "source": [
    "Notebook setup"
   ]
  },
  {
   "cell_type": "code",
   "execution_count": 1,
   "id": "7164bd17-b480-4558-892e-bfc806bea358",
   "metadata": {},
   "outputs": [],
   "source": [
    "#Autoreload .py files\n",
    "%load_ext autoreload\n",
    "%autoreload 2\n",
    "\n",
    "#https://github.com/chmp/ipytest/issues/80\n",
    "import sys\n",
    "sys.breakpointhook = sys.__breakpointhook__"
   ]
  },
  {
   "cell_type": "markdown",
   "id": "e12a95d7-f200-49e3-802c-686d52c598ef",
   "metadata": {},
   "source": [
    "Load required libraries"
   ]
  },
  {
   "cell_type": "code",
   "execution_count": 2,
   "id": "a5b738d6-abaf-424c-b386-6ae7f62ce698",
   "metadata": {},
   "outputs": [
    {
     "name": "stderr",
     "output_type": "stream",
     "text": [
      "/home/oscar/.conda/envs/xv/lib/python3.10/site-packages/tqdm/auto.py:21: TqdmWarning: IProgress not found. Please update jupyter and ipywidgets. See https://ipywidgets.readthedocs.io/en/stable/user_install.html\n",
      "  from .autonotebook import tqdm as notebook_tqdm\n"
     ]
    }
   ],
   "source": [
    "import xarray as xr\n",
    "import numpy as np\n",
    "from pathlib import Path\n",
    "from xarrayvideo import xarray2video, video2xarray, gap_fill, plot_image, to_netcdf\n",
    "import matplotlib.pyplot as plt"
   ]
  },
  {
   "cell_type": "markdown",
   "id": "f80d4c5b-d7be-4dfa-a86a-c54b23d8e974",
   "metadata": {},
   "source": [
    "Select the version of the dataset"
   ]
  },
  {
   "cell_type": "code",
   "execution_count": null,
   "id": "c9ab5e3a-74c2-438d-abf5-823494546f15",
   "metadata": {},
   "outputs": [],
   "source": [
    "# era5_version= '1959-2023_01_10-full_37-1h-0p25deg-chunk-1.zarr' #623Tb\n",
    "era5_version= '1959-2023_01_10-wb13-6h-1440x721_with_derived_variables.zarr' #80Tb\n",
    "# era5_version= '1959-2023_01_10-6h-240x121_equiangular_with_poles_conservative.zarr' #2Tb\n",
    "# era5_version= '1959-2023_01_10-6h-64x32_equiangular_conservative.zarr' #163Gb"
   ]
  },
  {
   "cell_type": "code",
   "execution_count": 25,
   "id": "31c56640-80bb-42be-af31-0894fa1cb317",
   "metadata": {},
   "outputs": [
    {
     "name": "stderr",
     "output_type": "stream",
     "text": [
      "\n",
      "KeyboardInterrupt\n",
      "\n"
     ]
    }
   ],
   "source": [
    "era5= xr.open_zarr(f'gs://weatherbench2/datasets/era5/{era5_version}') \n",
    "print(f'Size: {era5.nbytes / 2**30:.3f}Gb')\n",
    "era5"
   ]
  },
  {
   "cell_type": "markdown",
   "id": "9b96977e-efaa-4c8b-bdb8-b3cdc2b9e432",
   "metadata": {},
   "source": [
    "Choose a subset of the dataset"
   ]
  },
  {
   "cell_type": "code",
   "execution_count": null,
   "id": "a1fe0e10-c426-40b5-b29f-01f77c37bab1",
   "metadata": {},
   "outputs": [],
   "source": [
    "#Choose a subset of the dataset\n",
    "import pandas as pd\n",
    "start= '2022-07-01'\n",
    "data_from_start_date= era5.sel(time=slice(pd.Timestamp(start), None))"
   ]
  },
  {
   "cell_type": "markdown",
   "id": "278c954b-a2b5-454c-9ca3-1924de35683e",
   "metadata": {},
   "source": [
    "Save it locally, to avoid having to re-download every time"
   ]
  },
  {
   "cell_type": "code",
   "execution_count": null,
   "id": "378ab835-2407-4018-914b-ed34863eb922",
   "metadata": {},
   "outputs": [],
   "source": [
    "#data_from_start_date.to_zarr(f'since_{start}_{era5_version}')"
   ]
  },
  {
   "cell_type": "code",
   "execution_count": null,
   "id": "87d4731b-17f2-477c-bab5-4785f41e80fc",
   "metadata": {},
   "outputs": [],
   "source": []
  },
  {
   "cell_type": "code",
   "execution_count": null,
   "id": "eeb0005f-2ebe-419a-b984-3469c3a3082c",
   "metadata": {},
   "outputs": [],
   "source": [
    "import pandas as pd\n",
    "\n",
    "#Open from local\n",
    "era5_version= '../since_2022-07-01_2022-07-01_1959-2023_01_10-wb13-6h-1440x721_with_derived_variables.zarr'\n",
    "\n",
    "era5= xr.open_dataset(era5_version, engine='zarr')\n",
    "print(f'Size: {era5.nbytes / 2**30:.3f}Gb')\n",
    "era5"
   ]
  },
  {
   "cell_type": "code",
   "execution_count": null,
   "id": "8b29e1c9-2c05-4491-99e0-27e7d5dd48e8",
   "metadata": {},
   "outputs": [],
   "source": [
    "era5['relative_humidity'].isel({'time':50, 'level':12}).plot()\n",
    "plt.show()"
   ]
  },
  {
   "cell_type": "code",
   "execution_count": null,
   "id": "2b111c06-5e46-40fa-855d-c7ba219756af",
   "metadata": {},
   "outputs": [],
   "source": [
    "list(era5.variables)"
   ]
  },
  {
   "cell_type": "markdown",
   "id": "2274688a-d7f4-4349-a49e-f4d66fd4046f",
   "metadata": {},
   "source": [
    "Note that we can automatically get generic conversion rules (which might be suboptimal)"
   ]
  },
  {
   "cell_type": "code",
   "execution_count": null,
   "id": "60ce0b0c-52b4-4edd-b158-329ad9fce737",
   "metadata": {},
   "outputs": [],
   "source": [
    "from xarrayvideo import get_recipe\n",
    "from pprint import pprint as pp\n",
    "\n",
    "conversion_rules= get_recipe(era5, t='time', x='longitude', y='latitude', c='level', bits=10)\n",
    "pp(conversion_rules)"
   ]
  },
  {
   "cell_type": "markdown",
   "id": "066d3b07-3575-4cbd-b54e-41a53e647eaa",
   "metadata": {},
   "source": [
    "Compress"
   ]
  },
  {
   "cell_type": "code",
   "execution_count": null,
   "id": "5cd0e1e4-589b-4a55-9b06-d1502890f51b",
   "metadata": {},
   "outputs": [],
   "source": [
    "#Ideally, we want to manually optimize the recipe\n",
    "lossy_params = {\n",
    "    'c:v': 'libx265',  #[libx264, libx265, vp9, ffv1]\n",
    "    'preset': 'medium',  #Preset for quality/encoding speed tradeoff: quick, medium, slow (better)\n",
    "    'crf': [0],#,1,3,6,9], #14 default, 11 for higher quality and size\n",
    "    'x265-params': 'qpmin=0:qpmax=0.001:psy-rd=0:psy-rdoq=0',\n",
    "    }\n",
    "\n",
    "conversion_rules= {\n",
    "    'wind': ( ('10m_u_component_of_wind', '10m_v_component_of_wind', '10m_wind_speed'), ('time', 'longitude', 'latitude'), \n",
    "             0, lossy_params, 10),\n",
    "    # 'wind_speed': ('wind_speed', ('time', 'longitude', 'latitude', 'level'), 0, lossy_params, 10),\n",
    "    # # 'wind_speed2': ('wind_speed', ('time', 'longitude', 'latitude', 'level'), 12, lossy_params, 10),\n",
    "    'relative_humidity': ('relative_humidity', ('time', 'longitude', 'latitude', 'level'), 0, lossy_params, 10),\n",
    "    'wind_speed': ('wind_speed', ('time', 'longitude', 'latitude', 'level'), 0, lossy_params, 10),\n",
    "    'wind_u': ('u_component_of_wind', ('time', 'longitude', 'latitude', 'level'), 0, lossy_params, 10),\n",
    "    }\n",
    "\n",
    "arr_dict= xarray2video(era5.sel(time=slice(pd.Timestamp('2022-11-01'), None)), \n",
    "                       era5_version.replace('.zarr', ''), conversion_rules,\n",
    "                       output_path=output_path, use_ssim=False, compute_stats=True,\n",
    "                       loglevel='verbose', #verbose, quiet\n",
    "                       save_dataset=False #Disable saving\n",
    "                       )  "
   ]
  }
 ],
 "metadata": {
  "kernelspec": {
   "display_name": "xv",
   "language": "python",
   "name": "xv"
  },
  "language_info": {
   "codemirror_mode": {
    "name": "ipython",
    "version": 3
   },
   "file_extension": ".py",
   "mimetype": "text/x-python",
   "name": "python",
   "nbconvert_exporter": "python",
   "pygments_lexer": "ipython3",
   "version": "3.10.6"
  }
 },
 "nbformat": 4,
 "nbformat_minor": 5
}

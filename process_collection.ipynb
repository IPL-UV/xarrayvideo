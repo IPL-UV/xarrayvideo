{
 "cells": [
  {
   "cell_type": "markdown",
   "id": "f8af38fa-5e2a-4133-9399-f931d19baeb8",
   "metadata": {},
   "source": [
    "# Process a whole dataset"
   ]
  },
  {
   "cell_type": "code",
   "execution_count": null,
   "id": "82267d2b-4cb9-49cd-90c8-230ca62a08a1",
   "metadata": {},
   "outputs": [],
   "source": [
    "#Autoreload .py files\n",
    "%load_ext autoreload\n",
    "%autoreload 2\n",
    "\n",
    "#https://github.com/chmp/ipytest/issues/80\n",
    "import sys\n",
    "sys.breakpointhook = sys.__breakpointhook__"
   ]
  },
  {
   "cell_type": "code",
   "execution_count": null,
   "id": "8f557200-1f64-4c21-b0c0-3fc23bda5260",
   "metadata": {},
   "outputs": [],
   "source": [
    "#Load libs\n",
    "import xarray as xr\n",
    "import numpy as np\n",
    "from pathlib import Path\n",
    "import satalign\n",
    "import matplotlib.pyplot as plt\n",
    "from xarrayvideo import xarray2video, video2xarray, gap_fill, plot_image, to_netcdf\n",
    "from tqdm.notebook import tqdm\n",
    "import warnings"
   ]
  },
  {
   "cell_type": "code",
   "execution_count": null,
   "id": "3bf8226f-0bca-4e9c-8d22-e3b64456f580",
   "metadata": {},
   "outputs": [],
   "source": [
    "#Set parameters\n",
    "dataset_in_path= Path('/scratch/users/deepextremes/deepextremes-minicubes/full')\n",
    "dataset_out_path= Path('/scratch/users/deepextremes/video')\n",
    "images_out_path= Path('./deepextremes_images')\n",
    "conversion_rules= {\n",
    "    # 'r': ( 'B04', ('time','x','y'), 'lossy'), #1 channel + lossy not working\n",
    "    # 'ir4': ( ('B8A','B07','B06','B05'), ('time','x','y'), 'lossy'), #4 channels not working\n",
    "    'rgb': ( ('B04','B03','B02'), ('time','x','y'), 'lossy'),\n",
    "    'ir3': ( ('B8A','B06','B05'), ('time','x','y'), 'lossy'),\n",
    "    'cm': ( 'cloudmask_en', ('time','x','y'), 'lossless'),\n",
    "    'scl': ( 'SCL', ('time','x','y'), 'lossless'),\n",
    "    }\n",
    "lossy_params = {\n",
    "    'c:v': 'libx264',  #libx264 always seems better for rgb[libx264, libx265, vp9, ffv1]\n",
    "    'preset': 'slow',  #Preset for quality/encoding speed tradeoff: quick, medium, slow (better)\n",
    "    'crf': 11, #14 default, 11 for higher quality and size\n",
    "    }\n",
    "files= list(dataset_in_path.glob('*/*.zarr'))\n",
    "verbose=False"
   ]
  },
  {
   "cell_type": "code",
   "execution_count": null,
   "id": "be34c73b-1458-4085-9789-80976dee4771",
   "metadata": {},
   "outputs": [],
   "source": [
    "#Run for all cubes\n",
    "for i, input_path in (pbar:=tqdm(enumerate(files), total=len(files))):\n",
    "    try:\n",
    "        #Print name\n",
    "        array_id= '_'.join(input_path.stem.split('_')[1:3])\n",
    "        pbar.set_description(array_id)\n",
    "\n",
    "        #Load\n",
    "        minicube= xr.open_dataset(input_path, engine='zarr')\n",
    "        minicube['SCL']= minicube['SCL'].astype(np.uint8) #Fixes problem with the dataset\n",
    "        minicube['cloudmask_en']= minicube['cloudmask_en'].astype(np.uint8)\n",
    "        minicube= minicube.drop_vars('B07') #We drop a variable for now\n",
    "\n",
    "        #Align\n",
    "        bands= ['B04','B03','B02','B8A','B06','B05']\n",
    "        reference_image= minicube[bands].isel(time=slice(74,None)).mean(\"time\").to_array().transpose('variable', 'y', 'x')\n",
    "        datacube= minicube[bands].to_array().transpose('time', 'variable', 'y', 'x')\n",
    "\n",
    "        with warnings.catch_warnings(): \n",
    "            warnings.simplefilter(\"ignore\")\n",
    "            syncmodel= satalign.PCC( #PCC quicker, ECC more precise\n",
    "                datacube=datacube, # T x C x H x W\n",
    "                reference=reference_image, # C x H x W\n",
    "                channel=\"mean\", crop_center=96, num_threads=1)\n",
    "            new_cube, warps= syncmodel.run_multicore()\n",
    "        for b in bands: minicube[b]= new_cube.sel(variable=b)\n",
    "            \n",
    "        if verbose:\n",
    "            warp_df = satalign.utils.warp2df(warps, datacube.time.values)\n",
    "            satalign.utils.plot_s2_scatter(warp_df)\n",
    "            plt.show()\n",
    "\n",
    "        #Compress\n",
    "        arr_dict= xarray2video(minicube, array_id, conversion_rules, value_range=(0.,1.),\n",
    "                               lossy_params=lossy_params, fmt='mkv', exceptions='raise',\n",
    "                               output_path=dataset_out_path, use_ssim=False, compute_stats=verbose,\n",
    "                               loglevel='quiet', #verbose, quiet\n",
    "                               )\n",
    "\n",
    "        #Plot image\n",
    "        if True:\n",
    "            if i==0: continue\n",
    "            minicube_new= video2xarray(dataset_out_path, array_id, fmt='mkv') \n",
    "            plot_image(minicube_new, ['B04','B03','B02'], save_name=str(images_out_path/f'{array_id}.jpg'), show=False)\n",
    "            \n",
    "    except Exception as e:\n",
    "        print(f'Exception processing {array_id=}: {e}')\n",
    "\n",
    "        #Stop\n",
    "        if i > 10: break"
   ]
  }
 ],
 "metadata": {
  "kernelspec": {
   "display_name": "pt2",
   "language": "python",
   "name": "pt2"
  },
  "language_info": {
   "codemirror_mode": {
    "name": "ipython",
    "version": 3
   },
   "file_extension": ".py",
   "mimetype": "text/x-python",
   "name": "python",
   "nbconvert_exporter": "python",
   "pygments_lexer": "ipython3",
   "version": "3.10.13"
  }
 },
 "nbformat": 4,
 "nbformat_minor": 5
}
